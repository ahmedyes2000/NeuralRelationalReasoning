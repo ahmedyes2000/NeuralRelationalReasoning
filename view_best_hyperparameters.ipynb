{
 "cells": [
  {
   "cell_type": "markdown",
   "metadata": {},
   "source": [
    "# View best hyperparameters"
   ]
  },
  {
   "cell_type": "code",
   "execution_count": null,
   "metadata": {},
   "outputs": [],
   "source": [
    "from comparative_viz import ComparativeViz\n",
    "import os\n",
    "import pandas as pd"
   ]
  },
  {
   "cell_type": "code",
   "execution_count": null,
   "metadata": {},
   "outputs": [],
   "source": [
    "def get_optimal_hyperparmeters(base_filename, dirname=\"results\", accuracy_colname=\"accuracy\"):\n",
    "    \n",
    "    src_filename = os.path.join(\"results\", base_filename)    \n",
    "    df = pd.read_csv(src_filename)\n",
    "    \n",
    "    def per_group(group_df):\n",
    "        return group_df.groupby(['alpha', 'learning_rate']).apply(\n",
    "            lambda x: x[accuracy_colname].mean()).idxmax()\n",
    "\n",
    "    data = df.groupby(['embed_dim', 'hidden_dim']).apply(per_group)\n",
    "    data = data.to_frame()\n",
    "    data['alpha'], data['learning_rate'] = zip(*data[0])\n",
    "    data = data.drop(0, axis=1).reset_index()\n",
    "    return data"
   ]
  },
  {
   "cell_type": "code",
   "execution_count": null,
   "metadata": {},
   "outputs": [],
   "source": [
    "get_optimal_hyperparmeters(\"equality-experiments.csv\")"
   ]
  },
  {
   "cell_type": "code",
   "execution_count": null,
   "metadata": {},
   "outputs": [],
   "source": [
    "get_optimal_hyperparmeters(\"flatpremack_h1-experiments.csv\").head()"
   ]
  },
  {
   "cell_type": "code",
   "execution_count": null,
   "metadata": {},
   "outputs": [],
   "source": [
    "get_optimal_hyperparmeters(\"flatpremack_h2-experiments.csv\").head()"
   ]
  },
  {
   "cell_type": "code",
   "execution_count": null,
   "metadata": {},
   "outputs": [],
   "source": [
    "get_optimal_hyperparmeters(\"pretrain_probs-experiments.csv\").head()"
   ]
  },
  {
   "cell_type": "code",
   "execution_count": null,
   "metadata": {},
   "outputs": [],
   "source": [
    "get_optimal_hyperparmeters(\"pretrain_hidden-experiments.csv\").head()"
   ]
  },
  {
   "cell_type": "code",
   "execution_count": null,
   "metadata": {},
   "outputs": [],
   "source": [
    "get_optimal_hyperparmeters(\"fuzzy-lm-results.csv\").head()"
   ]
  },
  {
   "cell_type": "code",
   "execution_count": null,
   "metadata": {},
   "outputs": [],
   "source": [
    "get_optimal_hyperparmeters(\"fuzzy-lm-results.csv\")"
   ]
  },
  {
   "cell_type": "code",
   "execution_count": null,
   "metadata": {},
   "outputs": [],
   "source": [
    "get_optimal_hyperparmeters(\"tensorflowresults.csv\", accuracy_colname=\"premack_accuracy\")"
   ]
  },
  {
   "cell_type": "code",
   "execution_count": null,
   "metadata": {},
   "outputs": [],
   "source": []
  }
 ],
 "metadata": {
  "kernelspec": {
   "display_name": "Python 3",
   "language": "python",
   "name": "python3"
  },
  "language_info": {
   "codemirror_mode": {
    "name": "ipython",
    "version": 3
   },
   "file_extension": ".py",
   "mimetype": "text/x-python",
   "name": "python",
   "nbconvert_exporter": "python",
   "pygments_lexer": "ipython3",
   "version": "3.7.1"
  }
 },
 "nbformat": 4,
 "nbformat_minor": 2
}
