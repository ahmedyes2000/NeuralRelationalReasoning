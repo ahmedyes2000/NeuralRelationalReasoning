{
 "cells": [
  {
   "cell_type": "markdown",
   "metadata": {},
   "source": [
    "# Experiment visualizations"
   ]
  },
  {
   "cell_type": "markdown",
   "metadata": {},
   "source": [
    "## Set-up"
   ]
  },
  {
   "cell_type": "code",
   "execution_count": null,
   "metadata": {},
   "outputs": [],
   "source": [
    "from comparative_viz import ComparativeViz\n",
    "import matplotlib.pyplot as plt\n",
    "import os\n",
    "import pandas as pd"
   ]
  },
  {
   "cell_type": "code",
   "execution_count": null,
   "metadata": {},
   "outputs": [],
   "source": [
    "def create_all_viz(base_filename, dirname=\"results\", train_size_max=None):\n",
    "    experiment_type = base_filename.replace(\".csv\", \"\")\n",
    "    experiment_type = experiment_type.replace(\"-results\", \"\")\n",
    "    src_filename = os.path.join(\"results\", base_filename)\n",
    "    \n",
    "    df = pd.read_csv(src_filename)\n",
    "\n",
    "    if train_size_max is not None:\n",
    "        df = df[df.train_size <= train_size_max]\n",
    "    \n",
    "    viz = ComparativeViz(\n",
    "        df, \n",
    "        experiment_type=experiment_type, \n",
    "        title=\"\", \n",
    "        xtick_interval=None)\n",
    "    \n",
    "    viz.create_all()"
   ]
  },
  {
   "cell_type": "markdown",
   "metadata": {},
   "source": [
    "## Basic equality"
   ]
  },
  {
   "cell_type": "code",
   "execution_count": null,
   "metadata": {},
   "outputs": [],
   "source": [
    "create_all_viz(\"equality-results-large.csv\")"
   ]
  },
  {
   "cell_type": "code",
   "execution_count": null,
   "metadata": {},
   "outputs": [],
   "source": [
    "create_all_viz(\"equality-results-small.csv\", train_size_max=2004)"
   ]
  },
  {
   "cell_type": "markdown",
   "metadata": {},
   "source": [
    "## Flat Premack"
   ]
  },
  {
   "cell_type": "code",
   "execution_count": null,
   "metadata": {},
   "outputs": [],
   "source": [
    "create_all_viz(\"flatpremack-results-h1.csv\")"
   ]
  },
  {
   "cell_type": "code",
   "execution_count": null,
   "metadata": {},
   "outputs": [],
   "source": [
    "create_all_viz(\"flatpremack-results-h2.csv\")"
   ]
  },
  {
   "cell_type": "markdown",
   "metadata": {},
   "source": [
    "## Outputs as inputs"
   ]
  },
  {
   "cell_type": "code",
   "execution_count": null,
   "metadata": {},
   "outputs": [],
   "source": [
    "df = pd.read_csv(os.path.join(\"results\", \"inputasoutput-results.csv\"))"
   ]
  },
  {
   "cell_type": "code",
   "execution_count": null,
   "metadata": {},
   "outputs": [],
   "source": [
    "# The experiment code stores the per-class number, so we double it here:\n",
    "\n",
    "df[\"premack_training\"] = df[\"premack_training\"] * 2"
   ]
  },
  {
   "cell_type": "code",
   "execution_count": null,
   "metadata": {},
   "outputs": [],
   "source": [
    "# Embedding dimensions above 100 just added clutter:\n",
    "df = df[df.embed_dim <= 100]\n",
    "\n",
    "viz = ComparativeViz(\n",
    "    df,\n",
    "    experiment_type=\"inputasoutput\",\n",
    "    secondary_col=\"embed_dim\",\n",
    "    accuracy_col=\"premack_accuracy\",\n",
    "    train_size_col=\"premack_training\",\n",
    "    max_cols_method='smallest',\n",
    "    title=\"\",\n",
    "    xlabel=\"Additional hierarchical Premack training examples\",\n",
    "    xtick_interval=None,\n",
    "    max_cols=['alpha', 'learning_rate'])\n",
    "\n",
    "viz.create()"
   ]
  },
  {
   "cell_type": "markdown",
   "metadata": {},
   "source": [
    "## Fuzzy Pattern LMs"
   ]
  },
  {
   "cell_type": "markdown",
   "metadata": {},
   "source": [
    "### Medium vocab: 50 items"
   ]
  },
  {
   "cell_type": "code",
   "execution_count": null,
   "metadata": {},
   "outputs": [],
   "source": [
    "medium_lm_src_filename = os.path.join(\"results\", \"fuzzy-lm-results-vocab50.csv\")"
   ]
  },
  {
   "cell_type": "code",
   "execution_count": null,
   "metadata": {},
   "outputs": [],
   "source": [
    "medium_lm_df = pd.read_csv(medium_lm_src_filename)"
   ]
  },
  {
   "cell_type": "code",
   "execution_count": null,
   "metadata": {},
   "outputs": [],
   "source": [
    "medium_lm_df['train_size'] = medium_lm_df['iteration'] * 2450  # 50 * 49 distinct train items"
   ]
  },
  {
   "cell_type": "code",
   "execution_count": null,
   "metadata": {},
   "outputs": [],
   "source": [
    "medium_lm_viz = ComparativeViz(\n",
    "    medium_lm_df,\n",
    "    train_size_col='train_size', \n",
    "    max_cols=['alpha', 'learning_rate'], \n",
    "    experiment_type='fuzzy-lm-vocab50',\n",
    "    xtick_interval=None,\n",
    "    ylim=[0,1],\n",
    "    #xlabel=\"Iteration\",\n",
    "    title=\"\",\n",
    "    legend_placement=\"upper left\")\n",
    "\n",
    "medium_lm_viz.create_all()"
   ]
  },
  {
   "cell_type": "markdown",
   "metadata": {},
   "source": [
    "### Small vocab: 20 items"
   ]
  },
  {
   "cell_type": "code",
   "execution_count": null,
   "metadata": {},
   "outputs": [],
   "source": [
    "small_lm_src_filename = os.path.join(\"results\", \"fuzzy-lm-results-vocab20.csv\")"
   ]
  },
  {
   "cell_type": "code",
   "execution_count": null,
   "metadata": {},
   "outputs": [],
   "source": [
    "small_lm_df = pd.read_csv(small_lm_src_filename)"
   ]
  },
  {
   "cell_type": "code",
   "execution_count": null,
   "metadata": {},
   "outputs": [],
   "source": [
    "small_lm_df['train_size'] = small_lm_df['iteration'] * 190  # 20 * 19 distinct train items"
   ]
  },
  {
   "cell_type": "code",
   "execution_count": null,
   "metadata": {},
   "outputs": [],
   "source": [
    "small_lm_viz = ComparativeViz(\n",
    "    small_lm_df,\n",
    "    train_size_col='train_size', \n",
    "    max_cols=['alpha', 'learning_rate'], \n",
    "    experiment_type='fuzzy-lm-vocab20',\n",
    "    xtick_interval=None,\n",
    "    ylim=[0,1],\n",
    "    #xlabel=\"Iteration\",\n",
    "    title=\"\",\n",
    "    legend_placement=\"upper left\")\n",
    "\n",
    "_ = small_lm_viz.create_all()"
   ]
  },
  {
   "cell_type": "markdown",
   "metadata": {},
   "source": [
    "### Very small vocab: 10 items"
   ]
  },
  {
   "cell_type": "code",
   "execution_count": null,
   "metadata": {},
   "outputs": [],
   "source": [
    "tiny_lm_src_filename = os.path.join(\"results\", \"fuzzy-lm-results-vocab10.csv\")"
   ]
  },
  {
   "cell_type": "code",
   "execution_count": null,
   "metadata": {},
   "outputs": [],
   "source": [
    "tiny_lm_df = pd.read_csv(tiny_lm_src_filename)"
   ]
  },
  {
   "cell_type": "code",
   "execution_count": null,
   "metadata": {},
   "outputs": [],
   "source": [
    "tiny_lm_df['train_size'] = tiny_lm_df['iteration'] * 90 # 10 * 9 distinct train items"
   ]
  },
  {
   "cell_type": "code",
   "execution_count": null,
   "metadata": {},
   "outputs": [],
   "source": [
    "tiny_lm_viz = ComparativeViz(\n",
    "    tiny_lm_df,\n",
    "    train_size_col='train_size', \n",
    "    max_cols=['alpha', 'learning_rate'], \n",
    "    experiment_type='fuzzy-lm-vocab10',\n",
    "    xtick_interval=None,\n",
    "    ylim=[0,1],\n",
    "    #xlabel=\"Iteration\",\n",
    "    title=\"\",\n",
    "    legend_placement=\"upper left\")\n",
    "\n",
    "_ = tiny_lm_viz.create_all()"
   ]
  },
  {
   "cell_type": "markdown",
   "metadata": {},
   "source": [
    "## Small vocab (20 items), ReLU-based LSTM"
   ]
  },
  {
   "cell_type": "code",
   "execution_count": null,
   "metadata": {},
   "outputs": [],
   "source": [
    "small_lm_relu_src_filename = os.path.join(\"results\", \"fuzzy-lm-results-vocab20-cell_ReLULSTM.csv\")"
   ]
  },
  {
   "cell_type": "code",
   "execution_count": null,
   "metadata": {},
   "outputs": [],
   "source": [
    "small_lm_relu_df = pd.read_csv(small_lm_relu_src_filename)"
   ]
  },
  {
   "cell_type": "code",
   "execution_count": null,
   "metadata": {},
   "outputs": [],
   "source": [
    "small_lm_relu_df['train_size'] = small_lm_relu_df['iteration'] * 190  # 20 * 19 distinct train items"
   ]
  },
  {
   "cell_type": "code",
   "execution_count": null,
   "metadata": {},
   "outputs": [],
   "source": [
    "small_lm_relu_viz = ComparativeViz(\n",
    "    small_lm_relu_df,\n",
    "    train_size_col='train_size', \n",
    "    max_cols=['alpha', 'learning_rate'], \n",
    "    experiment_type='fuzzy-lm-vocab20-relu',\n",
    "    xtick_interval=None,\n",
    "    ylim=[0,1],\n",
    "    title=\"\",\n",
    "    legend_placement=\"upper left\")\n",
    "\n",
    "_ = small_lm_relu_viz.create_all()"
   ]
  },
  {
   "cell_type": "code",
   "execution_count": null,
   "metadata": {},
   "outputs": [],
   "source": []
  }
 ],
 "metadata": {
  "kernelspec": {
   "display_name": "Python 3",
   "language": "python",
   "name": "python3"
  },
  "language_info": {
   "codemirror_mode": {
    "name": "ipython",
    "version": 3
   },
   "file_extension": ".py",
   "mimetype": "text/x-python",
   "name": "python",
   "nbconvert_exporter": "python",
   "pygments_lexer": "ipython3",
   "version": "3.7.4"
  }
 },
 "nbformat": 4,
 "nbformat_minor": 2
}
