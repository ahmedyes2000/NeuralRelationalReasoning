{
 "cells": [
  {
   "cell_type": "markdown",
   "metadata": {},
   "source": [
    "# Experiment visualizations"
   ]
  },
  {
   "cell_type": "markdown",
   "metadata": {},
   "source": [
    "## Contents\n",
    "\n",
    "1. [Set-up](#Set-up)\n",
    "1. [Basic equality](#Basic-equality)\n",
    "  1. [Basic equality: No pretraining](#Basic-equality:-No-pretraining)\n",
    "  1. [Basic equality: With pretraining](#Basic-equality:-With-pretraining)\n",
    "  1. [Basic equality: Compare with and without pretraining](#Basic-equality:-Compare-with-and-without-pretraining)\n",
    "1. [Flat Premack](#Flat-Premack)\n",
    "  1. [Flat Premack: One hidden layer, no pretraining](#Flat-Premack:-One-hidden-layer,-no-pretraining)\n",
    "  1. [Flat Premack: Two hidden layers, no pretraining](#Flat-Premack:-Two-hidden-layers,-no-pretraining)\n",
    "  1. [Flat Premack: Two hidden layers, with pretraining](#Flat-Premack:-Two-hidden-layers,-with-pretraining)\n",
    "  1. [Flat Premack: Compare with and without pretraining](#Flat-Premack:-Compare-with-and-without-pretraining)\n",
    "1. [Inputs as outputs](#Inputs-as-outputs)\n",
    "  1. [Inputs as outputs: No pretraining](#Inputs-as-outputs:-No-pretraining)\n",
    "  1. [Inputs as outputs: Zero-shot setting](#Inputs-as-outputs:-Zero-shot-setting)\n",
    "  1. [Inputs as outputs: With pretraining](#Inputs-as-outputs:-With-pretraining)\n",
    "  1. [Inputs as outputs: Compare with and without pretraining](#Inputs-as-outputs:-Compare-with-and-without-pretraining)\n",
    "1. [Fuzzy Pattern LMs](#Fuzzy-Pattern-LMs)\n",
    "  1. [Fuzzy Pattern LMs: No pretraining](#Fuzzy-Pattern-LMs:-No-pretraining)\n",
    "  1. [Fuzzy Pattern LMs: With pretraining](#Fuzzy-Pattern-LMs:-With-pretraining)\n",
    "  1. [Fuzzy Pattern LMs: Compare with and without pretraining](#Fuzzy-Pattern-LMs:-Compare-with-and-without-pretraining)\n",
    "1. [Small pretraining examples for the paper](#Small-pretraining-examples-for-the-paper)"
   ]
  },
  {
   "cell_type": "markdown",
   "metadata": {},
   "source": [
    "## Set-up"
   ]
  },
  {
   "cell_type": "code",
   "execution_count": null,
   "metadata": {},
   "outputs": [],
   "source": [
    "from comparative_viz import ComparativeViz\n",
    "from comparative_viz import compare_with_and_without_pretraining_viz\n",
    "from comparative_viz import input_as_output_zero_shot_viz\n",
    "import matplotlib\n",
    "import matplotlib.pyplot as plt\n",
    "import numpy as np\n",
    "import os\n",
    "import pandas as pd\n",
    "import re\n",
    "from torch_rep_learner import RepLearner\n",
    "import utils"
   ]
  },
  {
   "cell_type": "code",
   "execution_count": null,
   "metadata": {},
   "outputs": [],
   "source": [
    "utils.fix_random_seeds()"
   ]
  },
  {
   "cell_type": "markdown",
   "metadata": {},
   "source": [
    "## Basic equality"
   ]
  },
  {
   "cell_type": "markdown",
   "metadata": {},
   "source": [
    "### Basic equality: No pretraining"
   ]
  },
  {
   "cell_type": "code",
   "execution_count": null,
   "metadata": {},
   "outputs": [],
   "source": [
    "ComparativeViz(\"equality.csv\").create_all()"
   ]
  },
  {
   "cell_type": "markdown",
   "metadata": {},
   "source": [
    "### Basic equality: With pretraining"
   ]
  },
  {
   "cell_type": "code",
   "execution_count": null,
   "metadata": {},
   "outputs": [],
   "source": [
    "ComparativeViz(\"equality-pretrain-3tasks.csv\").create_all()"
   ]
  },
  {
   "cell_type": "code",
   "execution_count": null,
   "metadata": {},
   "outputs": [],
   "source": [
    "ComparativeViz(\"equality-pretrain-5tasks.csv\").create_all()"
   ]
  },
  {
   "cell_type": "code",
   "execution_count": null,
   "metadata": {},
   "outputs": [],
   "source": [
    "ComparativeViz(\"equality-pretrain-10tasks.csv\").create_all()"
   ]
  },
  {
   "cell_type": "markdown",
   "metadata": {},
   "source": [
    "### Basic equality: Compare with and without pretraining"
   ]
  },
  {
   "cell_type": "code",
   "execution_count": null,
   "metadata": {},
   "outputs": [],
   "source": [
    "compare_with_and_without_pretraining_viz(\n",
    "    nopretrain_base_filename=\"equality.csv\",\n",
    "    pretrain_base_filenames=(\n",
    "        \"equality-pretrain-3tasks.csv\",\n",
    "        \"equality-pretrain-5tasks.csv\",\n",
    "        \"equality-pretrain-10tasks.csv\"\n",
    "    ),\n",
    "    embed_dim=10,\n",
    "    hidden_dim=100,\n",
    "    nopretrain_color=utils.STYLE_COLORS[1],\n",
    "    experiment_type=\"equality-pretrain-compare\")"
   ]
  },
  {
   "cell_type": "markdown",
   "metadata": {},
   "source": [
    "## Flat Premack"
   ]
  },
  {
   "cell_type": "markdown",
   "metadata": {},
   "source": [
    "### Flat Premack: One hidden layer, no pretraining"
   ]
  },
  {
   "cell_type": "code",
   "execution_count": null,
   "metadata": {},
   "outputs": [],
   "source": [
    "ComparativeViz(\"flatpremack-h1.csv\").create_all()"
   ]
  },
  {
   "cell_type": "markdown",
   "metadata": {},
   "source": [
    "### Flat Premack: Two hidden layers, no pretraining"
   ]
  },
  {
   "cell_type": "code",
   "execution_count": null,
   "metadata": {},
   "outputs": [],
   "source": [
    "ComparativeViz(\"flatpremack-h2.csv\").create_all()"
   ]
  },
  {
   "cell_type": "markdown",
   "metadata": {},
   "source": [
    "### Flat Premack: Two hidden layers, with pretraining"
   ]
  },
  {
   "cell_type": "code",
   "execution_count": null,
   "metadata": {},
   "outputs": [],
   "source": [
    "ComparativeViz(\"flatpremack-h2-pretrain-3tasks.csv\").create_all()"
   ]
  },
  {
   "cell_type": "code",
   "execution_count": null,
   "metadata": {},
   "outputs": [],
   "source": [
    "ComparativeViz(\"flatpremack-h2-pretrain-5tasks.csv\").create_all()"
   ]
  },
  {
   "cell_type": "code",
   "execution_count": null,
   "metadata": {},
   "outputs": [],
   "source": [
    "ComparativeViz(\"flatpremack-h2-pretrain-10tasks.csv\").create_all()"
   ]
  },
  {
   "cell_type": "markdown",
   "metadata": {},
   "source": [
    "### Flat Premack: Compare with and without pretraining"
   ]
  },
  {
   "cell_type": "code",
   "execution_count": null,
   "metadata": {},
   "outputs": [],
   "source": [
    "compare_with_and_without_pretraining_viz(\n",
    "    nopretrain_base_filename=\"flatpremack-h2.csv\",\n",
    "    pretrain_base_filenames=(\n",
    "        \"flatpremack-h2-pretrain-3tasks.csv\",\n",
    "        \"flatpremack-h2-pretrain-5tasks.csv\",\n",
    "        \"flatpremack-h2-pretrain-10tasks.csv\"\n",
    "    ),\n",
    "    embed_dim=10,\n",
    "    hidden_dim=100,\n",
    "    experiment_type=\"flatpremack-h2-pretrain-compare\",  \n",
    "    nopretrain_color=utils.STYLE_COLORS[1],\n",
    "    legend_placement=\"lower right\",\n",
    "    train_size_max=35000)"
   ]
  },
  {
   "cell_type": "markdown",
   "metadata": {},
   "source": [
    "## Inputs as outputs"
   ]
  },
  {
   "cell_type": "code",
   "execution_count": null,
   "metadata": {},
   "outputs": [],
   "source": [
    "io_kwargs = {\n",
    "    \"xlabel\": \"Additional hierarchical Premack training examples\",\n",
    "    \"max_cols_method\": \"smallest\"}"
   ]
  },
  {
   "cell_type": "markdown",
   "metadata": {},
   "source": [
    "### Inputs as outputs: No pretraining"
   ]
  },
  {
   "cell_type": "code",
   "execution_count": null,
   "metadata": {},
   "outputs": [],
   "source": [
    "ComparativeViz(\"input-as-output.csv\", **io_kwargs).create_all()"
   ]
  },
  {
   "cell_type": "markdown",
   "metadata": {},
   "source": [
    "### Inputs as outputs: Zero-shot setting"
   ]
  },
  {
   "cell_type": "code",
   "execution_count": null,
   "metadata": {},
   "outputs": [],
   "source": [
    "input_as_output_zero_shot_viz(\"input-as-output.csv\")"
   ]
  },
  {
   "cell_type": "markdown",
   "metadata": {},
   "source": [
    "### Inputs as outputs: With pretraining"
   ]
  },
  {
   "cell_type": "code",
   "execution_count": null,
   "metadata": {},
   "outputs": [],
   "source": [
    "ComparativeViz(\"input-as-output-pretrain-3tasks.csv\", **io_kwargs).create_all()"
   ]
  },
  {
   "cell_type": "code",
   "execution_count": null,
   "metadata": {},
   "outputs": [],
   "source": [
    "ComparativeViz(\"input-as-output-pretrain-5tasks.csv\", **io_kwargs).create_all()"
   ]
  },
  {
   "cell_type": "code",
   "execution_count": null,
   "metadata": {},
   "outputs": [],
   "source": [
    "ComparativeViz(\"input-as-output-pretrain-10tasks.csv\", **io_kwargs).create_all()"
   ]
  },
  {
   "cell_type": "markdown",
   "metadata": {},
   "source": [
    "### Inputs as outputs: Compare with and without pretraining"
   ]
  },
  {
   "cell_type": "code",
   "execution_count": null,
   "metadata": {},
   "outputs": [],
   "source": [
    "compare_with_and_without_pretraining_viz(\n",
    "    nopretrain_base_filename=\"input-as-output.csv\",\n",
    "    pretrain_base_filenames=(\n",
    "        \"input-as-output-pretrain-3tasks.csv\",   \n",
    "        \"input-as-output-pretrain-5tasks.csv\",\n",
    "        \"input-as-output-pretrain-10tasks.csv\"\n",
    "    ),\n",
    "    embed_dim=25,\n",
    "    hidden_dim=None,\n",
    "    nopretrain_color=utils.STYLE_COLORS[2],\n",
    "    experiment_type=\"input-as-output-pretrain-compare\",    \n",
    "    legend_placement=\"lower right\",\n",
    "    **io_kwargs)"
   ]
  },
  {
   "cell_type": "markdown",
   "metadata": {},
   "source": [
    "## Fuzzy Pattern LMs"
   ]
  },
  {
   "cell_type": "code",
   "execution_count": null,
   "metadata": {},
   "outputs": [],
   "source": [
    "lm_ylim = [0, 1.01]"
   ]
  },
  {
   "cell_type": "markdown",
   "metadata": {},
   "source": [
    "### Fuzzy Pattern LMs: No pretraining"
   ]
  },
  {
   "cell_type": "code",
   "execution_count": null,
   "metadata": {},
   "outputs": [],
   "source": [
    "ComparativeViz(\"fuzzy-lm-vocab20.csv\", ylim=lm_ylim).create_all()"
   ]
  },
  {
   "cell_type": "markdown",
   "metadata": {},
   "source": [
    "### Fuzzy Pattern LMs: With pretraining"
   ]
  },
  {
   "cell_type": "code",
   "execution_count": null,
   "metadata": {},
   "outputs": [],
   "source": [
    "ComparativeViz(\"fuzzy-lm-vocab20-pretrain-3tasks.csv\", ylim=lm_ylim).create_all()"
   ]
  },
  {
   "cell_type": "code",
   "execution_count": null,
   "metadata": {},
   "outputs": [],
   "source": [
    "ComparativeViz(\"fuzzy-lm-vocab20-pretrain-5tasks.csv\", ylim=lm_ylim).create_all()"
   ]
  },
  {
   "cell_type": "code",
   "execution_count": null,
   "metadata": {},
   "outputs": [],
   "source": [
    "ComparativeViz(\"fuzzy-lm-vocab20-pretrain-10tasks.csv\", ylim=lm_ylim).create_all()"
   ]
  },
  {
   "cell_type": "markdown",
   "metadata": {},
   "source": [
    "### Fuzzy Pattern LMs: Compare with and without pretraining"
   ]
  },
  {
   "cell_type": "code",
   "execution_count": null,
   "metadata": {
    "scrolled": false
   },
   "outputs": [],
   "source": [
    "compare_with_and_without_pretraining_viz(\n",
    "    nopretrain_base_filename=\"fuzzy-lm-vocab20.csv\",\n",
    "    pretrain_base_filenames=(\n",
    "        \"fuzzy-lm-vocab20-pretrain-3tasks.csv\",\n",
    "        \"fuzzy-lm-vocab20-pretrain-5tasks.csv\",\n",
    "        \"fuzzy-lm-vocab20-pretrain-10tasks.csv\"\n",
    "    ),\n",
    "    embed_dim=2,\n",
    "    hidden_dim=100,\n",
    "    nopretrain_color=utils.STYLE_COLORS[0],\n",
    "    experiment_type=\"fuzzy-lm-pretrain-compare\", \n",
    "    ylim=lm_ylim,\n",
    "    legend_placement=\"lower right\")"
   ]
  },
  {
   "cell_type": "markdown",
   "metadata": {},
   "source": [
    "## Small pretraining examples for the paper"
   ]
  },
  {
   "cell_type": "code",
   "execution_count": null,
   "metadata": {},
   "outputs": [],
   "source": [
    "def toy_examples_for_figure(n_tasks=3, vocab_size=500, embed_dim=5):\n",
    "    X = list(range(vocab_size))\n",
    "    \n",
    "    ys = []\n",
    "    for _ in range(n_tasks):\n",
    "        y = np.random.choice((0, 1), size=vocab_size, replace=True)\n",
    "        ys.append(y)\n",
    "    ys = list(zip(*ys))\n",
    "    \n",
    "    embedding = np.array([utils.randvec(embed_dim) for _ in range(vocab_size)])\n",
    "    \n",
    "    mod = RepLearner(\n",
    "        vocab_size,\n",
    "        embed_dim=embed_dim,\n",
    "        embedding=embedding,\n",
    "        hidden_dim=10,\n",
    "        max_iter=100)\n",
    "    \n",
    "    original_embedding = mod.embedding.copy()\n",
    "    \n",
    "    mod.fit(X, ys)\n",
    "    \n",
    "    updated_embedding = mod.embedding.copy()\n",
    "    \n",
    "    return original_embedding, updated_embedding, ys"
   ]
  },
  {
   "cell_type": "code",
   "execution_count": null,
   "metadata": {},
   "outputs": [],
   "source": [
    "def format_toy_matrix(X, n_rows=4):\n",
    "    df = pd.DataFrame(X)\n",
    "    df.columns = [f\"d_{{{i}}}\" for i in range(1, X.shape[1]+1)]\n",
    "    return df.head(n_rows).round(1).to_latex(escape=False, index=None)"
   ]
  },
  {
   "cell_type": "code",
   "execution_count": null,
   "metadata": {},
   "outputs": [],
   "source": [
    "def visualize_matrix(X, ys, figsize=(3, 3), output_filename=None):\n",
    "    df = pd.DataFrame(X)\n",
    "    label_combos = {tuple(x) for x in ys}\n",
    "    lookup = dict(zip(label_combos, utils.STYLE_COLORS))\n",
    "    colors = [lookup[tuple(x)] for x in ys]\n",
    "    utils.tsne_viz(\n",
    "        df, \n",
    "        colors=colors, \n",
    "        use_names=False, \n",
    "        output_filename=output_filename, \n",
    "        figsize=figsize,\n",
    "        random_state=42)"
   ]
  },
  {
   "cell_type": "code",
   "execution_count": null,
   "metadata": {},
   "outputs": [],
   "source": [
    "original_embedding, updated_embedding, ys  = toy_examples_for_figure()"
   ]
  },
  {
   "cell_type": "code",
   "execution_count": null,
   "metadata": {},
   "outputs": [],
   "source": [
    "visualize_matrix(\n",
    "    original_embedding, ys, \n",
    "    output_filename=os.path.join(\"fig\", \"toy-example-original.pdf\"))"
   ]
  },
  {
   "cell_type": "code",
   "execution_count": null,
   "metadata": {},
   "outputs": [],
   "source": [
    "visualize_matrix(\n",
    "    updated_embedding, ys, \n",
    "    output_filename=os.path.join(\"fig\", \"toy-example-trained.pdf\"))"
   ]
  },
  {
   "cell_type": "code",
   "execution_count": null,
   "metadata": {},
   "outputs": [],
   "source": [
    "print(format_toy_matrix(original_embedding))"
   ]
  },
  {
   "cell_type": "code",
   "execution_count": null,
   "metadata": {},
   "outputs": [],
   "source": [
    "print(format_toy_matrix(updated_embedding))"
   ]
  }
 ],
 "metadata": {
  "kernelspec": {
   "display_name": "Python 3",
   "language": "python",
   "name": "python3"
  },
  "language_info": {
   "codemirror_mode": {
    "name": "ipython",
    "version": 3
   },
   "file_extension": ".py",
   "mimetype": "text/x-python",
   "name": "python",
   "nbconvert_exporter": "python",
   "pygments_lexer": "ipython3",
   "version": "3.7.4"
  }
 },
 "nbformat": 4,
 "nbformat_minor": 2
}
