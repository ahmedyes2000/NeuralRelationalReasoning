{
 "cells": [
  {
   "cell_type": "markdown",
   "metadata": {},
   "source": [
    "# Fuzzy pattern LM experiments"
   ]
  },
  {
   "cell_type": "code",
   "execution_count": null,
   "metadata": {},
   "outputs": [],
   "source": [
    "from itertools import product\n",
    "import numpy as np\n",
    "import os\n",
    "import pandas as pd\n",
    "import time\n",
    "from fuzzy_lm_experiment import FuzzyPatternLMExperiment, DatasetABA"
   ]
  },
  {
   "cell_type": "code",
   "execution_count": null,
   "metadata": {},
   "outputs": [],
   "source": [
    "def run(train_vocab_size=50):\n",
    "    \n",
    "    max_iter = 150\n",
    "    embed_dims = [2, 10, 25, 50, 100]\n",
    "    hidden_dims = [2, 10, 25, 50, 100]\n",
    "    alphas = [0.00001, 0.0001, 0.001]\n",
    "    learning_rates = [0.0001, 0.001, 0.01]\n",
    "            \n",
    "    grid = (embed_dims, hidden_dims, alphas, learning_rates)\n",
    "    grid = list(product(*grid))\n",
    "    \n",
    "    print(f\"Running {len(grid)} experiments\")\n",
    "    \n",
    "    data = []\n",
    "    \n",
    "    for embed_dim, hidden_dim, alpha, lr in grid:\n",
    "        \n",
    "        start = time.time()\n",
    "        \n",
    "        print(f\"{embed_dim} {hidden_dim} {alpha} {lr}\", end=\"...\")\n",
    "        \n",
    "        experiment = FuzzyPatternLMExperiment(\n",
    "            dataset_class=DatasetABA,\n",
    "            embed_dim=embed_dim,\n",
    "            hidden_dim=hidden_dim,\n",
    "            n_trials=20,\n",
    "            train_vocab_size=train_vocab_size,\n",
    "            max_iter=max_iter,\n",
    "            pretrain=False)\n",
    "        \n",
    "        preds = experiment.run()\n",
    "        \n",
    "        mu = np.mean([p['accuracy'] for p in preds])        \n",
    "        elapsed_time = round(time.time() - start, 0)        \n",
    "        print(f\"mean: {mu}; took {elapsed_time} secs\")\n",
    "        \n",
    "        for p in preds:\n",
    "            p.update({\n",
    "                'embed_dim': embed_dim, \n",
    "                'hidden_dim': hidden_dim,\n",
    "                'train_vocab_size': train_vocab_size,\n",
    "                'alpha': alpha,\n",
    "                'learning_rate': lr,\n",
    "                'max_iter': max_iter})\n",
    "            data.append(p)\n",
    "            \n",
    "    return pd.DataFrame(data)                    "
   ]
  },
  {
   "cell_type": "code",
   "execution_count": null,
   "metadata": {
    "scrolled": false
   },
   "outputs": [],
   "source": [
    "def run_vocab_size_experiment(train_vocab_size, json=False):\n",
    "    df = run(train_vocab_size=train_vocab_size)\n",
    "    \n",
    "    output_filename = os.path.join(\n",
    "        \"results\", \n",
    "        \"fuzzy-lm-results-vocab{}.csv\".format(train_vocab_size))\n",
    "    \n",
    "    if json:\n",
    "        json_output_filename = output_filename.replace(\".csv\", \".json\")\n",
    "        df.to_json(json_output_filename, orient='records')\n",
    "    \n",
    "    df.drop(['correct', 'incorrect', 'n_correct', 'n_incorrect'], axis=1, inplace=True)\n",
    "    df.to_csv(output_filename, index=None)"
   ]
  },
  {
   "cell_type": "code",
   "execution_count": null,
   "metadata": {},
   "outputs": [],
   "source": [
    "run_vocab_size_experiment(train_vocab_size=50)"
   ]
  },
  {
   "cell_type": "code",
   "execution_count": null,
   "metadata": {},
   "outputs": [],
   "source": [
    "run_vocab_size_experiment(train_vocab_size=20)"
   ]
  },
  {
   "cell_type": "code",
   "execution_count": null,
   "metadata": {},
   "outputs": [],
   "source": [
    "run_vocab_size_experiment(train_vocab_size=10)"
   ]
  }
 ],
 "metadata": {
  "kernelspec": {
   "display_name": "Python 3",
   "language": "python",
   "name": "python3"
  },
  "language_info": {
   "codemirror_mode": {
    "name": "ipython",
    "version": 3
   },
   "file_extension": ".py",
   "mimetype": "text/x-python",
   "name": "python",
   "nbconvert_exporter": "python",
   "pygments_lexer": "ipython3",
   "version": "3.7.5"
  }
 },
 "nbformat": 4,
 "nbformat_minor": 2
}
